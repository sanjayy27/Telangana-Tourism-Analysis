{
 "cells": [
  {
   "cell_type": "code",
   "execution_count": 1,
   "id": "b28dfad6",
   "metadata": {
    "execution": {
     "iopub.execute_input": "2023-04-06T17:56:58.403003Z",
     "iopub.status.busy": "2023-04-06T17:56:58.402474Z",
     "iopub.status.idle": "2023-04-06T17:56:58.409948Z",
     "shell.execute_reply": "2023-04-06T17:56:58.409305Z"
    },
    "papermill": {
     "duration": 0.016214,
     "end_time": "2023-04-06T17:56:58.411869",
     "exception": false,
     "start_time": "2023-04-06T17:56:58.395655",
     "status": "completed"
    },
    "tags": []
   },
   "outputs": [],
   "source": [
    "import pandas as pd\n",
    "import numpy as np"
   ]
  },
  {
   "cell_type": "code",
   "execution_count": 2,
   "id": "75fc3441",
   "metadata": {
    "execution": {
     "iopub.execute_input": "2023-04-06T17:56:58.422306Z",
     "iopub.status.busy": "2023-04-06T17:56:58.421865Z",
     "iopub.status.idle": "2023-04-06T17:57:00.952369Z",
     "shell.execute_reply": "2023-04-06T17:57:00.950935Z"
    },
    "papermill": {
     "duration": 2.538196,
     "end_time": "2023-04-06T17:57:00.954649",
     "exception": false,
     "start_time": "2023-04-06T17:56:58.416453",
     "status": "completed"
    },
    "tags": []
   },
   "outputs": [],
   "source": [
    "import plotly.express as px\n",
    "import matplotlib.pyplot as plt\n",
    "%matplotlib inline\n",
    "import seaborn as sns\n",
    "plt.style.use('fivethirtyeight')\n",
    "color_pal=sns.color_palette()"
   ]
  },
  {
   "cell_type": "code",
   "execution_count": 3,
   "id": "df57ba4e",
   "metadata": {
    "execution": {
     "iopub.execute_input": "2023-04-06T17:57:00.964508Z",
     "iopub.status.busy": "2023-04-06T17:57:00.964153Z",
     "iopub.status.idle": "2023-04-06T17:57:00.991943Z",
     "shell.execute_reply": "2023-04-06T17:57:00.990754Z"
    },
    "papermill": {
     "duration": 0.035393,
     "end_time": "2023-04-06T17:57:00.994405",
     "exception": false,
     "start_time": "2023-04-06T17:57:00.959012",
     "status": "completed"
    },
    "tags": []
   },
   "outputs": [],
   "source": [
    "dfd=pd.read_csv('/kaggle/input/telangana-government-tourism-department/domestic_visitors(2016-2019).csv')\n",
    "dff=dfd=pd.read_csv('/kaggle/input/telangana-government-tourism-department/foreign_visitors(2016-2019).csv')"
   ]
  },
  {
   "cell_type": "code",
   "execution_count": 4,
   "id": "5340ea80",
   "metadata": {
    "execution": {
     "iopub.execute_input": "2023-04-06T17:57:01.004679Z",
     "iopub.status.busy": "2023-04-06T17:57:01.004251Z",
     "iopub.status.idle": "2023-04-06T17:57:01.013302Z",
     "shell.execute_reply": "2023-04-06T17:57:01.011813Z"
    },
    "papermill": {
     "duration": 0.017049,
     "end_time": "2023-04-06T17:57:01.015854",
     "exception": false,
     "start_time": "2023-04-06T17:57:00.998805",
     "status": "completed"
    },
    "tags": []
   },
   "outputs": [
    {
     "data": {
      "text/plain": [
       "Index(['Unnamed: 0', 'district', 'date', 'month', 'year', 'visitors'], dtype='object')"
      ]
     },
     "execution_count": 4,
     "metadata": {},
     "output_type": "execute_result"
    }
   ],
   "source": [
    "dff.columns"
   ]
  },
  {
   "cell_type": "code",
   "execution_count": 5,
   "id": "708b06d3",
   "metadata": {
    "execution": {
     "iopub.execute_input": "2023-04-06T17:57:01.026704Z",
     "iopub.status.busy": "2023-04-06T17:57:01.025774Z",
     "iopub.status.idle": "2023-04-06T17:57:01.032493Z",
     "shell.execute_reply": "2023-04-06T17:57:01.031430Z"
    },
    "papermill": {
     "duration": 0.014092,
     "end_time": "2023-04-06T17:57:01.034520",
     "exception": false,
     "start_time": "2023-04-06T17:57:01.020428",
     "status": "completed"
    },
    "tags": []
   },
   "outputs": [
    {
     "data": {
      "text/plain": [
       "Index(['Unnamed: 0', 'district', 'date', 'month', 'year', 'visitors'], dtype='object')"
      ]
     },
     "execution_count": 5,
     "metadata": {},
     "output_type": "execute_result"
    }
   ],
   "source": [
    "dfd.columns"
   ]
  },
  {
   "cell_type": "code",
   "execution_count": 6,
   "id": "12faab56",
   "metadata": {
    "execution": {
     "iopub.execute_input": "2023-04-06T17:57:01.045288Z",
     "iopub.status.busy": "2023-04-06T17:57:01.044943Z",
     "iopub.status.idle": "2023-04-06T17:57:01.059041Z",
     "shell.execute_reply": "2023-04-06T17:57:01.057792Z"
    },
    "papermill": {
     "duration": 0.022074,
     "end_time": "2023-04-06T17:57:01.061217",
     "exception": false,
     "start_time": "2023-04-06T17:57:01.039143",
     "status": "completed"
    },
    "tags": []
   },
   "outputs": [],
   "source": [
    "dfd=dfd.drop('Unnamed: 0',axis=1)\n",
    "dff=dff.drop('Unnamed: 0',axis=1)"
   ]
  },
  {
   "cell_type": "code",
   "execution_count": 7,
   "id": "a24f6219",
   "metadata": {
    "execution": {
     "iopub.execute_input": "2023-04-06T17:57:01.071504Z",
     "iopub.status.busy": "2023-04-06T17:57:01.071151Z",
     "iopub.status.idle": "2023-04-06T17:57:01.083202Z",
     "shell.execute_reply": "2023-04-06T17:57:01.082013Z"
    },
    "papermill": {
     "duration": 0.019424,
     "end_time": "2023-04-06T17:57:01.085211",
     "exception": false,
     "start_time": "2023-04-06T17:57:01.065787",
     "status": "completed"
    },
    "tags": []
   },
   "outputs": [
    {
     "name": "stdout",
     "output_type": "stream",
     "text": [
      "There are 33 districts in Telangana\n"
     ]
    }
   ],
   "source": [
    "print('There are' ,dfd['district'].nunique() ,'districts in Telangana')"
   ]
  },
  {
   "cell_type": "code",
   "execution_count": 8,
   "id": "7dd80c65",
   "metadata": {
    "execution": {
     "iopub.execute_input": "2023-04-06T17:57:01.096466Z",
     "iopub.status.busy": "2023-04-06T17:57:01.095397Z",
     "iopub.status.idle": "2023-04-06T17:57:01.104998Z",
     "shell.execute_reply": "2023-04-06T17:57:01.104304Z"
    },
    "papermill": {
     "duration": 0.016881,
     "end_time": "2023-04-06T17:57:01.106760",
     "exception": false,
     "start_time": "2023-04-06T17:57:01.089879",
     "status": "completed"
    },
    "tags": []
   },
   "outputs": [
    {
     "data": {
      "text/plain": [
       "district    0\n",
       "date        0\n",
       "month       0\n",
       "year        0\n",
       "visitors    0\n",
       "dtype: int64"
      ]
     },
     "execution_count": 8,
     "metadata": {},
     "output_type": "execute_result"
    }
   ],
   "source": [
    "dfd.isnull().sum()"
   ]
  },
  {
   "cell_type": "code",
   "execution_count": 9,
   "id": "9b567576",
   "metadata": {
    "execution": {
     "iopub.execute_input": "2023-04-06T17:57:01.117842Z",
     "iopub.status.busy": "2023-04-06T17:57:01.117228Z",
     "iopub.status.idle": "2023-04-06T17:57:01.125910Z",
     "shell.execute_reply": "2023-04-06T17:57:01.124714Z"
    },
    "papermill": {
     "duration": 0.016288,
     "end_time": "2023-04-06T17:57:01.127745",
     "exception": false,
     "start_time": "2023-04-06T17:57:01.111457",
     "status": "completed"
    },
    "tags": []
   },
   "outputs": [
    {
     "data": {
      "text/plain": [
       "district    0\n",
       "date        0\n",
       "month       0\n",
       "year        0\n",
       "visitors    0\n",
       "dtype: int64"
      ]
     },
     "execution_count": 9,
     "metadata": {},
     "output_type": "execute_result"
    }
   ],
   "source": [
    "dff.isnull().sum()"
   ]
  },
  {
   "cell_type": "code",
   "execution_count": 10,
   "id": "81f4aee0",
   "metadata": {
    "execution": {
     "iopub.execute_input": "2023-04-06T17:57:01.138748Z",
     "iopub.status.busy": "2023-04-06T17:57:01.138406Z",
     "iopub.status.idle": "2023-04-06T17:57:01.145171Z",
     "shell.execute_reply": "2023-04-06T17:57:01.144164Z"
    },
    "papermill": {
     "duration": 0.014548,
     "end_time": "2023-04-06T17:57:01.147054",
     "exception": false,
     "start_time": "2023-04-06T17:57:01.132506",
     "status": "completed"
    },
    "tags": []
   },
   "outputs": [
    {
     "data": {
      "text/plain": [
       "district    object\n",
       "date        object\n",
       "month       object\n",
       "year         int64\n",
       "visitors    object\n",
       "dtype: object"
      ]
     },
     "execution_count": 10,
     "metadata": {},
     "output_type": "execute_result"
    }
   ],
   "source": [
    "dff.dtypes"
   ]
  },
  {
   "cell_type": "code",
   "execution_count": 11,
   "id": "376cd13c",
   "metadata": {
    "execution": {
     "iopub.execute_input": "2023-04-06T17:57:01.159487Z",
     "iopub.status.busy": "2023-04-06T17:57:01.158125Z",
     "iopub.status.idle": "2023-04-06T17:57:01.165492Z",
     "shell.execute_reply": "2023-04-06T17:57:01.164107Z"
    },
    "papermill": {
     "duration": 0.015593,
     "end_time": "2023-04-06T17:57:01.167441",
     "exception": false,
     "start_time": "2023-04-06T17:57:01.151848",
     "status": "completed"
    },
    "tags": []
   },
   "outputs": [],
   "source": [
    "dfd=dfd.fillna(0)"
   ]
  },
  {
   "cell_type": "code",
   "execution_count": 12,
   "id": "6a6fdf39",
   "metadata": {
    "execution": {
     "iopub.execute_input": "2023-04-06T17:57:01.178813Z",
     "iopub.status.busy": "2023-04-06T17:57:01.178403Z",
     "iopub.status.idle": "2023-04-06T17:57:01.186719Z",
     "shell.execute_reply": "2023-04-06T17:57:01.185256Z"
    },
    "papermill": {
     "duration": 0.01665,
     "end_time": "2023-04-06T17:57:01.188959",
     "exception": false,
     "start_time": "2023-04-06T17:57:01.172309",
     "status": "completed"
    },
    "tags": []
   },
   "outputs": [],
   "source": [
    "dfd['visitors']=dfd['visitors'].replace({' ':0})\n",
    "dff['visitors']=dff['visitors'].replace({' ':0})"
   ]
  },
  {
   "cell_type": "code",
   "execution_count": 13,
   "id": "38f71b2f",
   "metadata": {
    "execution": {
     "iopub.execute_input": "2023-04-06T17:57:01.199939Z",
     "iopub.status.busy": "2023-04-06T17:57:01.199582Z",
     "iopub.status.idle": "2023-04-06T17:57:01.205334Z",
     "shell.execute_reply": "2023-04-06T17:57:01.204620Z"
    },
    "papermill": {
     "duration": 0.014194,
     "end_time": "2023-04-06T17:57:01.207931",
     "exception": false,
     "start_time": "2023-04-06T17:57:01.193737",
     "status": "completed"
    },
    "tags": []
   },
   "outputs": [],
   "source": [
    "dfd['visitors']=dfd['visitors'].astype(int)\n",
    "dff['visitors']=dff['visitors'].astype(int)"
   ]
  },
  {
   "cell_type": "markdown",
   "id": "3bfb13a6",
   "metadata": {
    "papermill": {
     "duration": 0.005252,
     "end_time": "2023-04-06T17:57:01.218225",
     "exception": false,
     "start_time": "2023-04-06T17:57:01.212973",
     "status": "completed"
    },
    "tags": []
   },
   "source": [
    "#### Top 10 districts that have the highest domestic visitors overall(2016-2019)"
   ]
  },
  {
   "cell_type": "code",
   "execution_count": 14,
   "id": "ca34706f",
   "metadata": {
    "execution": {
     "iopub.execute_input": "2023-04-06T17:57:01.229172Z",
     "iopub.status.busy": "2023-04-06T17:57:01.228847Z",
     "iopub.status.idle": "2023-04-06T17:57:01.243423Z",
     "shell.execute_reply": "2023-04-06T17:57:01.242258Z"
    },
    "papermill": {
     "duration": 0.022957,
     "end_time": "2023-04-06T17:57:01.245781",
     "exception": false,
     "start_time": "2023-04-06T17:57:01.222824",
     "status": "completed"
    },
    "tags": []
   },
   "outputs": [],
   "source": [
    "overa=dfd.groupby('district')['visitors'].max().reset_index()\n",
    "overa=overa.sort_values(by='visitors',ascending=False).head(10).reset_index()\n",
    "overa=overa.drop('index',axis=1)"
   ]
  },
  {
   "cell_type": "code",
   "execution_count": 15,
   "id": "bce9e8b8",
   "metadata": {
    "execution": {
     "iopub.execute_input": "2023-04-06T17:57:01.257018Z",
     "iopub.status.busy": "2023-04-06T17:57:01.256686Z",
     "iopub.status.idle": "2023-04-06T17:57:01.275024Z",
     "shell.execute_reply": "2023-04-06T17:57:01.273681Z"
    },
    "papermill": {
     "duration": 0.026613,
     "end_time": "2023-04-06T17:57:01.277268",
     "exception": false,
     "start_time": "2023-04-06T17:57:01.250655",
     "status": "completed"
    },
    "tags": []
   },
   "outputs": [
    {
     "data": {
      "text/html": [
       "<div>\n",
       "<style scoped>\n",
       "    .dataframe tbody tr th:only-of-type {\n",
       "        vertical-align: middle;\n",
       "    }\n",
       "\n",
       "    .dataframe tbody tr th {\n",
       "        vertical-align: top;\n",
       "    }\n",
       "\n",
       "    .dataframe thead th {\n",
       "        text-align: right;\n",
       "    }\n",
       "</style>\n",
       "<table border=\"1\" class=\"dataframe\">\n",
       "  <thead>\n",
       "    <tr style=\"text-align: right;\">\n",
       "      <th></th>\n",
       "      <th>district</th>\n",
       "      <th>visitors</th>\n",
       "    </tr>\n",
       "  </thead>\n",
       "  <tbody>\n",
       "    <tr>\n",
       "      <th>0</th>\n",
       "      <td>Hyderabad</td>\n",
       "      <td>38933</td>\n",
       "    </tr>\n",
       "    <tr>\n",
       "      <th>1</th>\n",
       "      <td>Warangal (Urban)</td>\n",
       "      <td>459</td>\n",
       "    </tr>\n",
       "    <tr>\n",
       "      <th>2</th>\n",
       "      <td>Mahbubnagar</td>\n",
       "      <td>126</td>\n",
       "    </tr>\n",
       "    <tr>\n",
       "      <th>3</th>\n",
       "      <td>Jayashankar Bhoopalpally</td>\n",
       "      <td>85</td>\n",
       "    </tr>\n",
       "    <tr>\n",
       "      <th>4</th>\n",
       "      <td>Mulugu</td>\n",
       "      <td>70</td>\n",
       "    </tr>\n",
       "    <tr>\n",
       "      <th>5</th>\n",
       "      <td>Jogulamba Gadwal</td>\n",
       "      <td>45</td>\n",
       "    </tr>\n",
       "    <tr>\n",
       "      <th>6</th>\n",
       "      <td>Warangal (Rural)</td>\n",
       "      <td>35</td>\n",
       "    </tr>\n",
       "    <tr>\n",
       "      <th>7</th>\n",
       "      <td>Nagarkurnool</td>\n",
       "      <td>35</td>\n",
       "    </tr>\n",
       "    <tr>\n",
       "      <th>8</th>\n",
       "      <td>Mancherial</td>\n",
       "      <td>10</td>\n",
       "    </tr>\n",
       "    <tr>\n",
       "      <th>9</th>\n",
       "      <td>Narayanpet</td>\n",
       "      <td>5</td>\n",
       "    </tr>\n",
       "  </tbody>\n",
       "</table>\n",
       "</div>"
      ],
      "text/plain": [
       "                   district  visitors\n",
       "0                 Hyderabad     38933\n",
       "1          Warangal (Urban)       459\n",
       "2               Mahbubnagar       126\n",
       "3  Jayashankar Bhoopalpally        85\n",
       "4                    Mulugu        70\n",
       "5         Jogulamba Gadwal         45\n",
       "6          Warangal (Rural)        35\n",
       "7             Nagarkurnool         35\n",
       "8                Mancherial        10\n",
       "9                Narayanpet         5"
      ]
     },
     "execution_count": 15,
     "metadata": {},
     "output_type": "execute_result"
    }
   ],
   "source": [
    "overa"
   ]
  },
  {
   "cell_type": "markdown",
   "id": "58424dd1",
   "metadata": {
    "papermill": {
     "duration": 0.005039,
     "end_time": "2023-04-06T17:57:01.287673",
     "exception": false,
     "start_time": "2023-04-06T17:57:01.282634",
     "status": "completed"
    },
    "tags": []
   },
   "source": [
    "#### Observation\n",
    "##### In 2016-2019 Overall,Hyderabad has had most domestic visitors\n",
    "##### The second district in the list has had almost 83 times less visitors than Hyderabad "
   ]
  },
  {
   "cell_type": "markdown",
   "id": "eed88d99",
   "metadata": {
    "papermill": {
     "duration": 0.004934,
     "end_time": "2023-04-06T17:57:01.297694",
     "exception": false,
     "start_time": "2023-04-06T17:57:01.292760",
     "status": "completed"
    },
    "tags": []
   },
   "source": [
    "#### Calculating CAGR"
   ]
  },
  {
   "cell_type": "markdown",
   "id": "1e9f9eab",
   "metadata": {
    "papermill": {
     "duration": 0.004604,
     "end_time": "2023-04-06T17:57:01.307125",
     "exception": false,
     "start_time": "2023-04-06T17:57:01.302521",
     "status": "completed"
    },
    "tags": []
   },
   "source": [
    "![](https://external-content.duckduckgo.com/iu/?u=https%3A%2F%2Ftse2.mm.bing.net%2Fth%3Fid%3DOIP.rOJy7_Y35HqpyY_lE74etAHaBc%26pid%3DApi&f=1&ipt=77f6e709781e80119998228daa371bcdd664379ad235c3b5d274afbcb3543806&ipo=images)"
   ]
  }
 ],
 "metadata": {
  "kernelspec": {
   "display_name": "Python 3",
   "language": "python",
   "name": "python3"
  },
  "language_info": {
   "codemirror_mode": {
    "name": "ipython",
    "version": 3
   },
   "file_extension": ".py",
   "mimetype": "text/x-python",
   "name": "python",
   "nbconvert_exporter": "python",
   "pygments_lexer": "ipython3",
   "version": "3.7.12"
  },
  "papermill": {
   "default_parameters": {},
   "duration": 12.21186,
   "end_time": "2023-04-06T17:57:02.133335",
   "environment_variables": {},
   "exception": null,
   "input_path": "__notebook__.ipynb",
   "output_path": "__notebook__.ipynb",
   "parameters": {},
   "start_time": "2023-04-06T17:56:49.921475",
   "version": "2.4.0"
  }
 },
 "nbformat": 4,
 "nbformat_minor": 5
}
